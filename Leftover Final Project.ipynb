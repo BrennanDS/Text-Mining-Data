{
 "metadata": {
  "name": "",
  "signature": "sha256:010611eb64a80e16778d60082679eac5286037f08c5501c8d0ee2952b1d04f8e"
 },
 "nbformat": 3,
 "nbformat_minor": 0,
 "worksheets": [
  {
   "cells": [
    {
     "cell_type": "code",
     "collapsed": false,
     "input": [
      "fullMTGDictbySetUnfiltered = OrderedDict()\n",
      "for mtgSet in fullMTGDict:\n",
      "    tempAllSetFlavour = list()\n",
      "    for card in fullMTGDict[mtgSet][\"cards\"]: # for each card object in each set\n",
      "        if 'flavor' in card:\n",
      "            tempAllSetFlavour += [card['flavor'] + \" \"]\n",
      "        #if \"flavor\" in card:\n",
      "          # tempAllSetFlavour += card['flavor']\n",
      "    tempTextJoined = ''.join(tempAllSetFlavour)\n",
      "    tempSetFilteredTokens = [word for word in nltk.word_tokenize(tempTextJoined.lower()) if any([c.isalpha() for c in word ])]\n",
      "    stopwordFilteredTokens = [word for word in tempSetFilteredTokens if word not in stopwords]\n",
      "    fullMTGDictbySetUnfiltered[mtgSet] = stopwordFilteredTokens # \n",
      "                                                           "
     ],
     "language": "python",
     "metadata": {},
     "outputs": []
    },
    {
     "cell_type": "code",
     "collapsed": false,
     "input": [],
     "language": "python",
     "metadata": {},
     "outputs": []
    },
    {
     "cell_type": "code",
     "collapsed": false,
     "input": [],
     "language": "python",
     "metadata": {},
     "outputs": []
    },
    {
     "cell_type": "code",
     "collapsed": false,
     "input": [],
     "language": "python",
     "metadata": {},
     "outputs": []
    },
    {
     "cell_type": "code",
     "collapsed": false,
     "input": [],
     "language": "python",
     "metadata": {},
     "outputs": []
    }
   ],
   "metadata": {}
  }
 ]
}