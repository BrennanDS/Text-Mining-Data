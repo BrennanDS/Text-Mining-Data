{
 "metadata": {
  "name": "",
  "signature": "sha256:250a302bc6a67631dd2a7214bb3627ce194ba146e86caab66479f3f14d2f11e6"
 },
 "nbformat": 3,
 "nbformat_minor": 0,
 "worksheets": [
  {
   "cells": [
    {
     "cell_type": "code",
     "collapsed": false,
     "input": [
      "import nltk\n",
      "names = nltk.corpus.gutenberg.fileids()\n",
      "texts = [nltk.corpus.gutenberg.raw(fileid) for fileid in names]\n",
      "len(texts)\n"
     ],
     "language": "python",
     "metadata": {},
     "outputs": [
      {
       "metadata": {},
       "output_type": "pyout",
       "prompt_number": 1,
       "text": [
        "18"
       ]
      }
     ],
     "prompt_number": 1
    },
    {
     "cell_type": "code",
     "collapsed": false,
     "input": [
      "from sklearn.feature_extraction.text import TfidfVectorizer"
     ],
     "language": "python",
     "metadata": {},
     "outputs": [],
     "prompt_number": 2
    },
    {
     "cell_type": "code",
     "collapsed": false,
     "input": [
      "tfidfVectorizer = TfidfVectorizer(stop_words='english', min_df=2) # lower case first letter = variable; capital = type of class\n",
      "\n",
      "documentTermMatrix = tfidfVectorizer.fit_transform(texts)\n",
      "\n",
      "documentTermMatrix"
     ],
     "language": "python",
     "metadata": {},
     "outputs": [
      {
       "metadata": {},
       "output_type": "pyout",
       "prompt_number": 3,
       "text": [
        "<18x19400 sparse matrix of type '<class 'numpy.float64'>'\n",
        "\twith 94890 stored elements in Compressed Sparse Row format>"
       ]
      }
     ],
     "prompt_number": 3
    },
    {
     "cell_type": "code",
     "collapsed": false,
     "input": [
      "terms = tfidfVectorizer.get_feature_names()"
     ],
     "language": "python",
     "metadata": {},
     "outputs": [],
     "prompt_number": 4
    },
    {
     "cell_type": "code",
     "collapsed": false,
     "input": [
      "import pandas as pd\n",
      "\n",
      "tfidfMatrix = pd.DataFrame(documentTermMatrix.toarray(), index=names, columns=terms)\n"
     ],
     "language": "python",
     "metadata": {},
     "outputs": [],
     "prompt_number": 5
    },
    {
     "cell_type": "code",
     "collapsed": false,
     "input": [
      "from sklearn.metrics.pairwise import cosine_similarity\n",
      "distances = 1 - cosine_similarity(documentTermMatrix)"
     ],
     "language": "python",
     "metadata": {},
     "outputs": [],
     "prompt_number": 6
    },
    {
     "cell_type": "code",
     "collapsed": false,
     "input": [
      "from sklearn.manifold import MDS\n",
      "\n",
      "# reduce our n-dimensional distances matrix to a two dimensional matrix (for x and y coordinates)\n",
      "mds = MDS(dissimilarity=\"precomputed\", random_state=1)\n",
      "positions = mds.fit_transform(distances)"
     ],
     "language": "python",
     "metadata": {},
     "outputs": [],
     "prompt_number": 7
    },
    {
     "cell_type": "code",
     "collapsed": false,
     "input": [
      "import matplotlib.pyplot as plt\n",
      "%matplotlib inline"
     ],
     "language": "python",
     "metadata": {},
     "outputs": [],
     "prompt_number": 8
    },
    {
     "cell_type": "code",
     "collapsed": false,
     "input": [
      "from scipy.cluster.hierarchy import ward, dendrogram\n",
      "linkage_matrix = ward(distances)\n",
      "dendrogram(linkage_matrix, labels=names, orientation=\"right\");\n",
      "plt.show()  # fixes margins"
     ],
     "language": "python",
     "metadata": {},
     "outputs": [
      {
       "metadata": {},
       "output_type": "display_data",
       "png": "[encoded data removed]",
       "text": [
        "<matplotlib.figure.Figure at 0x89182b0>"
       ]
      }
     ],
     "prompt_number": 10
    },
    {
     "cell_type": "code",
     "collapsed": false,
     "input": [],
     "language": "python",
     "metadata": {},
     "outputs": []
    }
   ],
   "metadata": {}
  }
 ]
}