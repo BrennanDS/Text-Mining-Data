{
 "metadata": {
  "name": "",
  "signature": "sha256:60f9cd9bb7889c71ee5b27f3e3dde8c7d28a8898eec273afba587722481db0c7"
 },
 "nbformat": 3,
 "nbformat_minor": 0,
 "worksheets": [
  {
   "cells": [
    {
     "cell_type": "heading",
     "level": 1,
     "metadata": {},
     "source": [
      "Sentiment Analysis"
     ]
    },
    {
     "cell_type": "markdown",
     "metadata": {},
     "source": [
      "This first section is the code from the notebook/that we went over in class. [This](#questions) is where the assignment questions begin. Due to the interconnected nature of these questions, I chose to alter the main cell of functions for each question, rather than recopying the cell for different alterations/exercises. "
     ]
    },
    {
     "cell_type": "code",
     "collapsed": false,
     "input": [
      "import urllib.request\n",
      "sonnetsUrl = \"http://www.gutenberg.org/cache/epub/1041/pg1041.txt\"\n",
      "sonnetsString = urllib.request.urlopen(sonnetsUrl).read().decode()"
     ],
     "language": "python",
     "metadata": {},
     "outputs": [],
     "prompt_number": 20
    },
    {
     "cell_type": "code",
     "collapsed": false,
     "input": [
      "filteredSonnetsStart = sonnetsString.find(\"  I\\r\\n\") # title of first sonnet\n",
      "filteredSonnetsEnd = sonnetsString.find(\"End of Project Gutenberg's\") # end of sonnets\n",
      "filteredSonnetsString = sonnetsString[filteredSonnetsStart:filteredSonnetsEnd].rstrip() # strip spaces from the end (right)\n",
      "print(filteredSonnetsString[:75] + ' \u2026 ' + filteredSonnetsString[-50:])"
     ],
     "language": "python",
     "metadata": {},
     "outputs": [
      {
       "output_type": "stream",
       "stream": "stdout",
       "text": [
        "  I\r\n",
        "\r\n",
        "  From fairest creatures we desire increase,\r\n",
        "  That thereby beauty' \u2026     Love's fire heats water, water cools not love.\n"
       ]
      }
     ],
     "prompt_number": 21
    },
    {
     "cell_type": "code",
     "collapsed": false,
     "input": [
      "import re\n",
      "sonnetsList = re.split(\"  [A-Z]+\\r\\n\\r\\n\", filteredSonnetsString) # the + sign means 'match 1 or more chars'"
     ],
     "language": "python",
     "metadata": {},
     "outputs": [],
     "prompt_number": 22
    },
    {
     "cell_type": "code",
     "collapsed": false,
     "input": [
      "import os\n",
      "sonnetsPath = 'sonnets' # this subdirectory will be relative to the current notebook\n",
      "if not os.path.exists(sonnetsPath):\n",
      "    os.makedirs(sonnetsPath)"
     ],
     "language": "python",
     "metadata": {},
     "outputs": [],
     "prompt_number": 23
    },
    {
     "cell_type": "code",
     "collapsed": false,
     "input": [
      "for index, sonnet in enumerate(sonnetsList): # loop through our list as enumeration to get index\n",
      "    if len(sonnet.strip()) > 0: # make sure we have text, not empty after stripping out whitespace\n",
      "        filename = os.path.join(sonnetsPath, str(index).zfill(3)+\".txt\") # create filename from index\n",
      "        f = open(filename, \"w\")\n",
      "        f.write(sonnet.rstrip()) # write out our sonnet into the file (removing whitespace at the end/right)\n",
      "        f.close()"
     ],
     "language": "python",
     "metadata": {},
     "outputs": [],
     "prompt_number": 24
    },
    {
     "cell_type": "code",
     "collapsed": false,
     "input": [
      "import nltk\n",
      "from nltk.corpus import PlaintextCorpusReader\n",
      "sonnetsCorpus = PlaintextCorpusReader(sonnetsPath, '.*')"
     ],
     "language": "python",
     "metadata": {},
     "outputs": [],
     "prompt_number": 25
    },
    {
     "cell_type": "code",
     "collapsed": false,
     "input": [
      "from nltk.corpus import sentiwordnet as swn"
     ],
     "language": "python",
     "metadata": {},
     "outputs": [],
     "prompt_number": 26
    },
    {
     "cell_type": "markdown",
     "metadata": {},
     "source": [
      "<a id='questions'></a>\n",
      "__Experiment with different values for skipWordNetPos \u2013 which combination seems to give the best results?__\n",
      "\n",
      "\n",
      "__Can you set a threshold of positive and negative values to improve results?__\n",
      "\n",
      "\n",
      "__Can you add your own stopword list to the function signatures and have those words skipped when looking for sentiment?__"
     ]
    },
    {
     "cell_type": "markdown",
     "metadata": {},
     "source": [
      "While the above code was from the class work, the following cell is taken directly from the bottom of the [sentiment analysis notebook](http://nbviewer.ipython.org/github/sgsinclair/alta/blob/master/ipynb/SentimentAnalysis.ipynb). It inherently offers a structure that can more easily answer some of the assignment questions but doensn't have any comments. I will thus try to add my own notes to help myself fully understand what each line is doing."
     ]
    },
    {
     "cell_type": "code",
     "collapsed": false,
     "input": [
      "import nltk\n",
      "from nltk.corpus import sentiwordnet as swn\n",
      "\n",
      "def get_sentiments_data_from_corpus(corpus, skipWordNetPos=[], Stopwords=[], Threshold=0): \n",
      "    # the main function, by being able to pass two arguments we can choose which PoS to look at. I will also add the Stopword and \n",
      "    # Threshold lists here so that the user can easily alter and change them to easily tweak their results.  \n",
      "    documents = {}                                              \n",
      "    all_positives = []                                         \n",
      "    all_negatives = []\n",
      "    for fileid in corpus.fileids():\n",
      "        tokens = [word for word in corpus.words(fileid) if word not in Stopwords] # list of tokens in the sonnet; filtered for stopwords\n",
      "        score, positives, negatives = get_sentiment_data_from_tokens(tokens, skipWordNetPos, Threshold)\n",
      "        documents[fileid] = score\n",
      "        [all_positives.append(positive) for positive in positives] # adds to the list of positive and negative words\n",
      "        [all_negatives.append(negative) for negative in negatives]\n",
      "    return documents, set(all_positives), set(all_negatives) # outputs a dict of [files:scores]; all pos words; all neg words\n",
      "\n",
      "def get_sentiment_data_from_tokens(tokens, skipWordNetPos=[], Threshold=0):\n",
      "    tagged = nltk.pos_tag(tokens) # all of the sonnet's tokens with their PoS tags\n",
      "    positives = [] # a list of the positive words in the sonnet\n",
      "    negatives = [] # \"\" negative \"\"\n",
      "    tokens_score = 0 # the sentiment score for each sonnet\n",
      "    for word, treebank in tagged:\n",
      "        score = get_sentiment_score_from_tagged(word, treebank, skipWordNetPos, Threshold)\n",
      "        if score: \n",
      "            tokens_score += score\n",
      "            if score > 0:\n",
      "                positives.append(word.lower())\n",
      "            else:\n",
      "                negatives.append(word.lower())\n",
      "    return tokens_score, set(positives), set(negatives)\n",
      "\n",
      "def get_sentiment_score_from_tagged(token, treebank, skipWordNetPos=[], Threshold=0):\n",
      "    wordnet_pos = treebank_to_wordnet_pos(treebank, skipWordNetPos)\n",
      "    if wordnet_pos: # only use words that have a wordnet PoS\n",
      "        senti_synsets = list(swn.senti_synsets(token, wordnet_pos))\n",
      "        if senti_synsets:\n",
      "            wordValue = senti_synsets[0].pos_score() - senti_synsets[0].neg_score() # the 0 returns the most common senti_synset\n",
      "            if abs(wordValue) >= Threshold: # the word's value (whether pos/neg) must be equal to or larger than the threshold\n",
      "                return wordValue \n",
      "\n",
      "def treebank_to_wordnet_pos(treebank, skipWordNetPos=[]):\n",
      "    if \"NN\" in treebank and \"n\" not in skipWordNetPos: # singular and plural nouns (NN, NNS)\n",
      "        return \"n\"\n",
      "    elif \"JJ\" in treebank and \"a\" not in skipWordNetPos: # adjectives (JJ, JJR, JJS)\n",
      "        return \"a\" \n",
      "    elif \"VB\" in treebank and \"v\" not in skipWordNetPos: # verbs (VB, VBD, VBG, VBN, VBP, VBZ)\n",
      "        return \"v\"\n",
      "    elif \"RB\" in treebank and \"r\" not in skipWordNetPos: # adverbs (RB, RBR, RBS)\n",
      "        return \"r\"\n",
      "    # if we don't match any of these we implicitly return None"
     ],
     "language": "python",
     "metadata": {},
     "outputs": [],
     "prompt_number": 27
    },
    {
     "cell_type": "markdown",
     "metadata": {},
     "source": [
      "And here's the HTML output function:"
     ]
    },
    {
     "cell_type": "code",
     "collapsed": false,
     "input": [
      "from IPython.display import HTML\n",
      "def get_html_for_sentiment_data(text, positives, negatives):\n",
      "    # the regular expression combines all of the positive and negative words for a search, e.g. (love|like)\n",
      "    # it then surrounds the word found in parentheses with styling, green for positive, red for negative\n",
      "    if len(positives) > 0:\n",
      "        text = re.sub(r'\\b(' + '|'.join(positives) + r')\\b', r'<span style=\"color: chartreuse \">\\1</span>', text)\n",
      "    if len(negatives) > 0:\n",
      "        text = re.sub(r'\\b(' + '|'.join(negatives) + r')\\b', r'<span style=\"color: red\">\\1</span>', text)\n",
      "    return text"
     ],
     "language": "python",
     "metadata": {},
     "outputs": [],
     "prompt_number": 28
    },
    {
     "cell_type": "code",
     "collapsed": false,
     "input": [
      "sonnetsSentimentValues, sonnetsPositives, sonnetsNegatives = get_sentiments_data_from_corpus(sonnetsCorpus)\n",
      "sonnetsSentimentFreqs = nltk.FreqDist(sonnetsSentimentValues)\n",
      "%matplotlib inline\n",
      "sonnetsSentimentFreqs.plot()"
     ],
     "language": "python",
     "metadata": {},
     "outputs": [
      {
       "metadata": {},
       "output_type": "display_data",
       "png": "[encoded data removed]",
       "text": [
        "<matplotlib.figure.Figure at 0x12b40f60>"
       ]
      }
     ],
     "prompt_number": 29
    },
    {
     "cell_type": "code",
     "collapsed": false,
     "input": [
      "import numpy\n",
      "numpy.mean([val for doc, val in sonnetsSentimentFreqs.items()])"
     ],
     "language": "python",
     "metadata": {},
     "outputs": [
      {
       "metadata": {},
       "output_type": "pyout",
       "prompt_number": 30,
       "text": [
        "1.1557597402597402"
       ]
      }
     ],
     "prompt_number": 30
    },
    {
     "cell_type": "markdown",
     "metadata": {},
     "source": [
      "That's the basic function call with no PoS omissions; if we want to only look for adjectives (and adverbs) we just need to add in our optional argument:"
     ]
    },
    {
     "cell_type": "code",
     "collapsed": false,
     "input": [
      "AdjsonnetsSentimentValues, AdjsonnetsPositives, AdjsonnetsNegatives = get_sentiments_data_from_corpus(sonnetsCorpus, [\"v\", \"n\"])\n",
      "AdjsonnetsSentimentFreqs = nltk.FreqDist(AdjsonnetsSentimentValues)\n",
      "%matplotlib inline\n",
      "AdjsonnetsSentimentFreqs.plot()"
     ],
     "language": "python",
     "metadata": {},
     "outputs": [
      {
       "metadata": {},
       "output_type": "display_data",
       "png": "[encoded data removed]",
       "text": [
        "<matplotlib.figure.Figure at 0x1641ebe0>"
       ]
      }
     ],
     "prompt_number": 31
    },
    {
     "cell_type": "markdown",
     "metadata": {},
     "source": [
      "Let's see what kind of words were determined to have positive or negative values using only adjectives and adverbs:"
     ]
    },
    {
     "cell_type": "code",
     "collapsed": false,
     "input": [
      "print(\"There are \", len(AdjsonnetsPositives), \" positive words:\", AdjsonnetsPositives,\n",
      "      \"\\n\\nand \", len(AdjsonnetsNegatives), \" negative words:\", AdjsonnetsNegatives )"
     ],
     "language": "python",
     "metadata": {},
     "outputs": [
      {
       "output_type": "stream",
       "stream": "stdout",
       "text": [
        "There are  97  positive words: {'proudest', 'rudely', 'familiar', 'determinate', 'everywhere', 'free', 'big', 'kind', 'gracious', 'happy', 'much', 'proudly', 'lawful', 'idly', 'whole', 'stronger', 'effectually', 'newer', 'willingly', 'best', 'yet', 'virtuous', 'dearly', 'large', 'alive', 'restful', 'easy', 'healthful', 'old', 'proud', 'false', 'new', 'truest', 'dull', 'already', 'blest', 'fair', 'broad', 'preposterously', 'even', 'clean', 'wrongfully', 'gladly', 'worthier', 'beautiful', 'sportive', 'well', 'good', 'inconstant', 'wary', 'partial', 'unkind', 'politic', 'tall', 'fairest', 'clear', 'tender', 'worthy', 'greater', 'main', 'strong', 'graciously', 'powerful', 'willing', 'foolish', 'scarcely', 'acceptable', 'sourly', 'wide', 'tired', 'constant', 'equal', 'pleasant', 'true', 'enough', 'no', 'bright', 'necessary', 'consecrate', 'wantonly', 'different', 'able', 'right', 'gently', 'strangely', 'sharp', 'purest', 'sweetly', 'better', 'happier', 'rightly', 'careful', 'truly', 'wilfully', 'strongly', 'older', 'bold'} \n",
        "\n",
        "and  82  negative words: {'dead', 'thinly', 'worst', 'certain', 'quite', 'flatter', 'lost', 'false', 'bad', 'light', 'public', 'dry', 'unhappily', 'low', 'down', 'near', 'present', 'pretty', 'as', 'prophetic', 'hugely', 'fairly', 'outward', 'rough', 'little', 'sadly', 'wrong', 'bare', 'soon', 'sad', 'too', 'black', 'indirectly', 'open', 'lasting', 'painful', 'sourest', 'fresh', 'hardest', 'still', 'absent', 'quiet', 'daily', 'less', 'other', 'temperate', 'buried', 'simple', 'painted', 'inferior', 'foul', 'ill', 'wasteful', 'hard', 'frailer', 'idle', 'high', 'glorious', 'cold', 'poorly', 'white', 'never', 'modern', 'bloody', 'not', 'evil', 'slight', 'fearful', 'humble', 'former', 'forgetful', 'harmful', 'active', 'sure', 'past', 'grossly', 'unknown', 'small', 'worse', 'private', 'weak', 'straight'}\n"
       ]
      }
     ],
     "prompt_number": 32
    },
    {
     "cell_type": "code",
     "collapsed": false,
     "input": [
      "for senti_synset in swn.senti_synsets(\"wrongfully\"):\n",
      "    print(senti_synset, senti_synset.synset.definition())"
     ],
     "language": "python",
     "metadata": {},
     "outputs": [
      {
       "output_type": "stream",
       "stream": "stdout",
       "text": [
        "<wrongfully.r.01: PosScore=0.25 NegScore=0.0> in an unjust or unfair manner\n"
       ]
      }
     ],
     "prompt_number": 33
    },
    {
     "cell_type": "markdown",
     "metadata": {},
     "source": [
      "Why a word with a  definition of 'unjust and unfair' has a positive score is a bit perplexing, but overall I think that there are the fewest inconsistencies/misattributions when only looking at adverbs and adjectives (further, these minor inconsistencies can largely be accounted for by only taking into consideration words with +.30 values, which we'll get to later). When looking at nouns, for example, we see the following words:"
     ]
    },
    {
     "cell_type": "code",
     "collapsed": false,
     "input": [
      "NounsonnetsSentimentValues, NounsonnetsPositives,NounsonnetsNegatives = get_sentiments_data_from_corpus(sonnetsCorpus, [\"v\", \"a\", \"r\"], [], .30)\n",
      "print(\"There are \", len(NounsonnetsPositives), \" positive words:\", NounsonnetsPositives,\n",
      "      \"\\n\\nand \", len(NounsonnetsNegatives), \" negative words:\", NounsonnetsNegatives )"
     ],
     "language": "python",
     "metadata": {},
     "outputs": [
      {
       "output_type": "stream",
       "stream": "stdout",
       "text": [
        "There are  81  positive words: {'worthiness', 'advantage', 'deeds', 'affections', 'beauties', 'triumph', 'master', 'homage', 'instinct', 'quality', 'dignity', 'pride', 'patience', 'know', 'gems', 'unseen', 'chance', 'splendour', 'cunning', 'simplicity', 'excellence', 'hand', 'marvel', 'worthy', 'wish', 'times', 'passion', 'praises', 'bliss', 'senses', 'strength', 'victories', 'find', 'beauty', 'assistance', 'better', 'affairs', 'steals', 'nature', 'make', 'wishing', 'loves', 'jollity', 'truth', 'captain', 'wandering', 'merit', 'love', 'ignorance', 'poets', 'add', 'miracle', 'intelligence', 'truths', 'favour', 'fools', 'deserts', 'sense', 'steal', 'buy', 'privilege', 'poet', 'wonder', 'evil', 'makes', 'invention', 'then', 'esteem', 'fool', 'grievances', 'true', 'help', 'health', 'reserve', 'constancy', 'knows', 'slanderers', 'loveliness', 'goodness', 'salutation', 'praise'} \n",
        "\n",
        "and  91  negative words: {'iniquity', 'disdain', 'spite', 'thorns', 'curse', 'sufferance', 'injuries', 'weakness', 'strife', 'ruin', 'creature', 'decay', 'injury', 'perfection', 'sorrow', 'error', 'frowns', 'disgrace', 'fill', 'groan', 'penury', 'accidents', 'faults', 'difference', 'wilfulness', 'shames', 'rarities', 'abuses', 'fault', 'creep', 'fix', 'wantonness', 'elements', 'black', 'doom', 'bitterness', 'poverty', 'catch', 'conceit', 'woes', 'fear', 'burden', 'oaths', 'fiend', 'rhymers', 'accident', 'beast', 'hell', 'scorn', 'woe', 'wrongs', 'maladies', 'number', 'creatures', 'largess', 'fears', 'darkness', 'tempests', 'sorrows', 'decays', 'abuse', 'suffering', 'wilt', 'despite', 'fits', 'griefs', 'stain', 'moan', 'distraction', 'pain', 'badness', 'fester', 'frown', 'dark', 'worst', 'reeks', 'shame', 'spites', 'blame', 'plagues', 'comfort', 'bastard', 'plight', 'errors', 'plague', 'torment', 'grief', 'pity', 'wail', 'bankrupt', 'worse'}\n"
       ]
      }
     ],
     "prompt_number": 34
    },
    {
     "cell_type": "markdown",
     "metadata": {},
     "source": [
      "And for verbs:"
     ]
    },
    {
     "cell_type": "code",
     "collapsed": false,
     "input": [
      "VerbsonnetsSentimentValues, VerbsonnetsPositives, VerbsonnetsNegatives = get_sentiments_data_from_corpus(sonnetsCorpus, [\"n\", \"a\", \"r\"], [], .30)\n",
      "print(\"There are \", len(VerbsonnetsPositives), \" positive words:\", VerbsonnetsPositives,\n",
      "      \"\\n\\nand \", len(VerbsonnetsNegatives), \" negative words:\", VerbsonnetsNegatives )"
     ],
     "language": "python",
     "metadata": {},
     "outputs": [
      {
       "output_type": "stream",
       "stream": "stdout",
       "text": [
        "There are  60  positive words: {'teach', 'lust', 'please', 'endeared', 'loved', 'triumph', 'imitated', 'admire', 'flatter', 'torture', 'taught', 'beseem', 'divining', 'wondering', 'adore', 'vouchsafe', 'shine', 'suited', 'delights', 'delighted', 'bettering', 'fitted', 'enjoys', 'dignified', 'qualify', 'tend', 'grant', 'delight', 'divine', 'loves', 'save', 'deserve', 'honouring', 'dignifies', 'love', 'gentle', 'trust', 'rid', 'neck', 'wonder', 'loving', 'joy', 'pleased', 'admiring', 'esteem', 'checked', 'question', 'befits', 'pleasing', 'perceive', 'possess', 'tame', 'respect', 'admired', 'salving', 'merits', 'contented', 'second', 'honour', 'crave'} \n",
        "\n",
        "and  65  negative words: {'reproach', 'wounded', 'sicken', 'scorn', 'robs', 'hurt', 'kill', 'minded', 'lost', 'shamed', 'ruining', 'dreading', 'mar', 'stole', 'losing', 'attainted', 'groans', 'mourning', 'inflaming', 'disdains', 'wrongs', 'forgoing', 'grieve', 'corrupt', 'shame', 'brave', 'chide', 'wrong', 'denied', 'fears', 'sorrows', 'despised', 'fearing', 'lose', 'bemoaned', 'mourn', 'confounded', 'bewailed', 'confess', 'abuse', 'sorrow', 'mud', 'face', 'forsake', 'vanished', 'endure', 'hate', 'blind', 'masked', 'forsaken', 'steal', 'faces', 'misuse', 'fear', 'groan', 'despise', 'vanishing', 'disabled', 'complain', 'pitied', 'despising', 'hated', 'pain', 'weep', 'suborned'}\n"
       ]
      }
     ],
     "prompt_number": 35
    },
    {
     "cell_type": "markdown",
     "metadata": {},
     "source": [
      "There are still many useful words here (and some, like the \"positive\" __torture__, that aren't) that I do not think ought to be ommitted, and by ignoring nouns or verbs I feel like I am missing out on many of the positive/negative elements of the sonnets. Perhaps the best strategy for refinement would be to change the required Pos/Neg value threshold or manually add stopwords, and leave all of the PoS to be (if I were to omit a certain PoS I would consider verbs first, I think). But what I found to be most difficult here is deciding what makes a certain set of results 'better' than the previous ones. Looking at the list of positive and negative words seems to be the most accurate way: I can then notice which words might be providing false data / are clearly not 'positive or negative'. When comparing graphs, however, I'm not sure if a result that has a bigger discrepency between the most positive and negative sonnets is necessarily more informative than  having a more evenly distributed curve. It might show that the negative or positive attributes of certain sonnets  are overwhelmingly clear, but if the individual words "
     ]
    },
    {
     "cell_type": "code",
     "collapsed": false,
     "input": [
      "stopWordList = [\"torture\", \"white\", \"scarcely\", \"find\", \"near\", \"rid\",]"
     ],
     "language": "python",
     "metadata": {},
     "outputs": [],
     "prompt_number": 36
    },
    {
     "cell_type": "code",
     "collapsed": false,
     "input": [
      "sonnetsSentimentValues30Thresh, sonnetsPositives30Thresh, sonnetsNegatives30Thresh = get_sentiments_data_from_corpus(sonnetsCorpus, [], [], .30)\n",
      "sonnetsSentimentFreqs30Thresh = nltk.FreqDist(sonnetsSentimentValues30Thresh)\n",
      "sonnetsSentimentFreqs30Thresh.plot()"
     ],
     "language": "python",
     "metadata": {},
     "outputs": [
      {
       "metadata": {},
       "output_type": "display_data",
       "png": "[encoded data removed]",
       "text": [
        "<matplotlib.figure.Figure at 0x4f46be0>"
       ]
      }
     ],
     "prompt_number": 37
    },
    {
     "cell_type": "code",
     "collapsed": false,
     "input": [
      "fileid = sonnetsSentimentFreqs30Thresh.most_common()[-1][0] # most negative (fileid of the last element in the most common list)\n",
      "text = sonnetsCorpus.raw(fileid)\n",
      "html = get_html_for_sentiment_data(text, sonnetsPositives30Thresh, sonnetsNegatives30Thresh)\n",
      "HTML(\"<h2>\" + fileid + \"</h2><pre>\" + html + \"</pre>\")"
     ],
     "language": "python",
     "metadata": {},
     "outputs": [
      {
       "html": [
        "<h2>090.txt</h2><pre>  Then <span style=\"color: red\">hate</span> me when thou <span style=\"color: red\">wilt</span>; if ever, now;\r",
        "\r\n",
        "  Now, while the world is bent my <span style=\"color: chartreuse \">deeds</span> to cross,\r",
        "\r\n",
        "  Join with the <span style=\"color: red\">spite</span> of fortune, <span style=\"color: chartreuse \">make</span> me bow,\r",
        "\r\n",
        "  And do <span style=\"color: red\">not</span> drop in for an after-loss:\r",
        "\r\n",
        "  Ah! do <span style=\"color: red\">not</span>, when my heart hath 'scap'd this <span style=\"color: red\">sorrow</span>,\r",
        "\r\n",
        "  Come in the rearward of a conquer'd <span style=\"color: red\">woe</span>;\r",
        "\r\n",
        "  Give <span style=\"color: red\">not</span> a windy night a rainy morrow,\r",
        "\r\n",
        "  To linger out a purpos'd overthrow.\r",
        "\r\n",
        "  If thou <span style=\"color: red\">wilt</span> leave me, do <span style=\"color: red\">not</span> leave me last,\r",
        "\r\n",
        "  When <span style=\"color: red\">other</span> petty <span style=\"color: red\">griefs</span> have done their <span style=\"color: red\">spite</span>,\r",
        "\r\n",
        "  But in the onset come: so shall I taste\r",
        "\r\n",
        "  At first the very <span style=\"color: red\">worst</span> of fortune's might;\r",
        "\r\n",
        "    And <span style=\"color: red\">other</span> strains of <span style=\"color: red\">woe</span>, which now seem <span style=\"color: red\">woe</span>,\r",
        "\r\n",
        "    Compar'd with loss of thee, will <span style=\"color: red\">not</span> seem so.</pre>"
       ],
       "metadata": {},
       "output_type": "pyout",
       "prompt_number": 38,
       "text": [
        "<IPython.core.display.HTML at 0x15714b00>"
       ]
      }
     ],
     "prompt_number": 38
    },
    {
     "cell_type": "markdown",
     "metadata": {},
     "source": [
      "In conclusion, I think placing the threshold between .40 and .20 seems to be one of the more effective values to rely on. Going below .20 makes certain words that I think are neutral begin to appear, while going beyond .40 removes otherwise clearly valuable words. With infinite time on my hands, the best way to solve this problem would be to manually enter the values for words I think are off, or appear in the wrong list (like 'white' withe a - value, or torture with +), but making a small Stopwords list for those I think are providing false information is a suitably fast way to somewhat cope with this issue. In terms of omitting PoS, each category carries many words with valuable connotations, and for a general analysis of overall positive/negative trends across Shakespeare's sonnets, I do not think any category ought to be remove. For a more detailed question/approach, however, being able to focus solely on nouns or verbs could provide a fascinating entry point into better understanding his poems. In particular, analyzing the distribution of negative/positive words (or nouns/verbs) in each individual sonnet relative to the poem's volta could be a neat way of understanding poetic turns, and how actions or objects play a role Shakespeare's emotional rhetoric."
     ]
    },
    {
     "cell_type": "code",
     "collapsed": false,
     "input": [],
     "language": "python",
     "metadata": {},
     "outputs": [],
     "prompt_number": 38
    }
   ],
   "metadata": {}
  }
 ]
}