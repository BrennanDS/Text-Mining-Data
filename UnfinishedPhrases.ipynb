{
 "metadata": {
  "name": "",
  "signature": "sha256:e0885947205593c7253369a22d1f77efca82e6a810e42bca2ac8102397611743"
 },
 "nbformat": 3,
 "nbformat_minor": 0,
 "worksheets": [
  {
   "cells": [
    {
     "cell_type": "code",
     "collapsed": false,
     "input": [
      "import nltk\n",
      "emmaTokens = nltk.corpus.gutenberg.words(\"austen-emma.txt\")"
     ],
     "language": "python",
     "metadata": {},
     "outputs": [],
     "prompt_number": 1
    },
    {
     "cell_type": "code",
     "collapsed": false,
     "input": [
      "emmaText = nltk.Text(emmaTokens)\n",
      "emmaText.collocations()"
     ],
     "language": "python",
     "metadata": {},
     "outputs": [
      {
       "output_type": "stream",
       "stream": "stdout",
       "text": [
        "Frank Churchill; Miss Woodhouse; Miss Bates; Jane Fairfax; Miss\n",
        "Fairfax; every thing; young man; every body; great deal; dare say;\n",
        "John Knightley; Maple Grove; Miss Smith; Miss Taylor; Robert Martin;\n",
        "Colonel Campbell; Box Hill; said Emma; Harriet Smith; William Larkins\n"
       ]
      }
     ],
     "prompt_number": 2
    },
    {
     "cell_type": "code",
     "collapsed": false,
     "input": [
      "emmaWords = [word for word in emmaTokens if any([c.isalpha() for c in word])]\n",
      "# emmaWords = [word for word in emmaTokens if word[0].isalpha()]\n",
      "emmaWordsText = nltk.Text(emmaWords)\n",
      "emma4grams = list(nltk.ngrams(emmaWords, 4))\n",
      "emma4grams[:5]"
     ],
     "language": "python",
     "metadata": {},
     "outputs": [
      {
       "metadata": {},
       "output_type": "pyout",
       "prompt_number": 3,
       "text": [
        "[('Emma', 'by', 'Jane', 'Austen'),\n",
        " ('by', 'Jane', 'Austen', 'VOLUME'),\n",
        " ('Jane', 'Austen', 'VOLUME', 'I'),\n",
        " ('Austen', 'VOLUME', 'I', 'CHAPTER'),\n",
        " ('VOLUME', 'I', 'CHAPTER', 'I')]"
       ]
      }
     ],
     "prompt_number": 3
    },
    {
     "cell_type": "code",
     "collapsed": false,
     "input": [
      "emma4gramsFreqs = nltk.FreqDist(emma4grams)\n",
      "emma4gramsFreqs.most_common(10)"
     ],
     "language": "python",
     "metadata": {},
     "outputs": [
      {
       "metadata": {},
       "output_type": "pyout",
       "prompt_number": 4,
       "text": [
        "[(('I', 'do', 'not', 'know'), 50),\n",
        " (('a', 'great', 'deal', 'of'), 25),\n",
        " (('I', 'am', 'sure', 'I'), 20),\n",
        " (('Mr', 'and', 'Mrs', 'Weston'), 18),\n",
        " (('I', 'do', 'not', 'think'), 18),\n",
        " (('it', 'would', 'have', 'been'), 18),\n",
        " (('I', 'have', 'no', 'doubt'), 16),\n",
        " (('I', 'am', 'sure', 'you'), 16),\n",
        " (('at', 'Mrs', 'Goddard', 's'), 14),\n",
        " (('and', 'I', 'am', 'sure'), 13)]"
       ]
      }
     ],
     "prompt_number": 4
    },
    {
     "cell_type": "code",
     "collapsed": false,
     "input": [
      "%matplotlib inline\n",
      "emma4gramsText = nltk.Text(emma4grams)\n",
      "emma4gramsText.dispersion_plot([(\"I\",\"am\",\"sure\",\"you\"),(\"and\",\"I\",\"am\",\"sure\")])"
     ],
     "language": "python",
     "metadata": {},
     "outputs": [
      {
       "metadata": {},
       "output_type": "display_data",
       "png": "[encoded data removed]",
       "text": [
        "<matplotlib.figure.Figure at 0x10c4bdef0>"
       ]
      }
     ],
     "prompt_number": 5
    },
    {
     "cell_type": "code",
     "collapsed": false,
     "input": [
      "maxFreqs = []\n",
      "for length in range(2, len(emmaWords)):\n",
      "    ngrams = nltk.ngrams(emmaWords, length)\n",
      "    freqs = nltk.FreqDist(ngrams)\n",
      "    freqs = [(ngram, count) for ngram, count in freqs.items() if count > 1]\n",
      "    if len(freqs) > 0:\n",
      "        maxFreqs = freqs\n",
      "    else:\n",
      "        break\n",
      "\n",
      "for ngram, count in maxFreqs:\n",
      "    print(count, \" \".join(list(ngram)))"
     ],
     "language": "python",
     "metadata": {},
     "outputs": [
      {
       "output_type": "stream",
       "stream": "stdout",
       "text": [
        "2 what reverse we have Man s boasted power and freedom all are flown Lord of the earth and sea he bends a slave And woman lovely woman reigns alone\n"
       ]
      }
     ],
     "prompt_number": 6
    },
    {
     "cell_type": "code",
     "collapsed": false,
     "input": [
      "import numpy as np\n",
      "import matplotlib.pyplot as plt\n",
      "%matplotlib inline\n",
      "\n",
      "emma4gramsSegments = np.array_split(emma4grams, 10)\n",
      "\n",
      "lines = []\n",
      "ngramCounts = {}\n",
      "for search in [\"and I am sure\", \"I am sure I\"]:\n",
      "    counts = []\n",
      "    for segment in emma4gramsSegments:\n",
      "        ngrams = [\" \".join(ngram) for ngram in segment]\n",
      "        counts.append(ngrams.count(search))\n",
      "    ngramCounts[search] = counts\n",
      "    line, = plt.plot(counts, label=search)\n",
      "    lines.append(line)\n",
      "\n",
      "print(ngramCounts)\n",
      "\n",
      "plt.ylim(0)\n",
      "plt.legend(handles=lines)\n",
      "plt.show()\n",
      "\n",
      "\n",
      "# plt.bar(range(0, len(counts)), counts)\n",
      "# plt.show()"
     ],
     "language": "python",
     "metadata": {},
     "outputs": [
      {
       "output_type": "stream",
       "stream": "stdout",
       "text": [
        "{'I am sure I': [2, 5, 2, 1, 2, 0, 2, 4, 0, 2], 'and I am sure': [3, 0, 2, 1, 1, 1, 3, 2, 0, 0]}\n"
       ]
      },
      {
       "metadata": {},
       "output_type": "display_data",
       "png": "[encoded data removed]",
       "text": [
        "<matplotlib.figure.Figure at 0x10ec69160>"
       ]
      }
     ],
     "prompt_number": 7
    },
    {
     "cell_type": "code",
     "collapsed": false,
     "input": [
      "np.corrcoef(ngramCounts[\"and I am sure\"], ngramCounts[\"I am sure I\"])[0,1]"
     ],
     "language": "python",
     "metadata": {},
     "outputs": [
      {
       "metadata": {},
       "output_type": "pyout",
       "prompt_number": 8,
       "text": [
        "0.061290896587567457"
       ]
      }
     ],
     "prompt_number": 8
    },
    {
     "cell_type": "code",
     "collapsed": false,
     "input": [
      "emma4gramsFreqs"
     ],
     "language": "python",
     "metadata": {},
     "outputs": [
      {
       "metadata": {},
       "output_type": "pyout",
       "prompt_number": 9,
       "text": [
        "FreqDist({('I', 'do', 'not', 'know'): 50, ('a', 'great', 'deal', 'of'): 25, ('I', 'am', 'sure', 'I'): 20, ('Mr', 'and', 'Mrs', 'Weston'): 18, ('I', 'do', 'not', 'think'): 18, ('it', 'would', 'have', 'been'): 18, ('I', 'have', 'no', 'doubt'): 16, ('I', 'am', 'sure', 'you'): 16, ('at', 'Mrs', 'Goddard', 's'): 14, ('and', 'I', 'am', 'sure'): 13, ...})"
       ]
      }
     ],
     "prompt_number": 9
    },
    {
     "cell_type": "code",
     "collapsed": false,
     "input": [
      "searches = [\" \".join(ngram) for ngram, count in emma4gramsFreqs.most_common(10)]\n",
      "ngramCounts = {}\n",
      "for search in searches:\n",
      "    counts = []\n",
      "    for segment in emma4gramsSegments:\n",
      "        ngrams = [\" \".join(ngram) for ngram in segment]\n",
      "        counts.append(ngrams.count(search))\n",
      "    ngramCounts[search] = counts\n",
      "\n",
      "correlationsDict = {}\n",
      "for ngram, counts in ngramCounts.items():\n",
      "    cor = np.corrcoef(ngramCounts[\"I do not know\"], counts)[0,1]\n",
      "    print(ngram, cor)\n",
      "    correlationsDict[ngram] = cor\n",
      "\n",
      "nltk.FreqDist(correlationsDict).plot()"
     ],
     "language": "python",
     "metadata": {},
     "outputs": [
      {
       "output_type": "stream",
       "stream": "stdout",
       "text": [
        "at Mrs Goddard s -0.320038668232\n",
        "I am sure I 0.0418121005004\n",
        "and I am sure 0.112758849627\n",
        "I do not think 0.71679269234\n",
        "I do not know 1.0\n",
        "I am sure you 0.202999485735\n",
        "a great deal of -0.413449115297\n",
        "Mr and Mrs Weston -0.0373300683395\n",
        "I have no doubt -0.27066598098\n",
        "it would have been 0.0828741930165\n"
       ]
      },
      {
       "metadata": {},
       "output_type": "display_data",
       "png": "[encoded data removed]",
       "text": [
        "<matplotlib.figure.Figure at 0x115048470>"
       ]
      }
     ],
     "prompt_number": 20
    },
    {
     "cell_type": "code",
     "collapsed": false,
     "input": [],
     "language": "python",
     "metadata": {},
     "outputs": [],
     "prompt_number": 10
    }
   ],
   "metadata": {}
  }
 ]
}