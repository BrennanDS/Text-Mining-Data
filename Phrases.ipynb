{
 "metadata": {
  "name": "",
  "signature": "sha256:93f9f3c89031ee5bd50d5f43beea642c5f792129b1bb9a6fc4f2aab54ac982cc"
 },
 "nbformat": 3,
 "nbformat_minor": 0,
 "worksheets": [
  {
   "cells": [
    {
     "cell_type": "heading",
     "level": 1,
     "metadata": {},
     "source": [
      "Working with n-grams and phrases!"
     ]
    },
    {
     "cell_type": "code",
     "collapsed": false,
     "input": [
      "import nltk\n",
      "emmaTokens = nltk.corpus.gutenberg.words(\"austen-emma.txt\")"
     ],
     "language": "python",
     "metadata": {},
     "outputs": [],
     "prompt_number": 1
    },
    {
     "cell_type": "code",
     "collapsed": false,
     "input": [
      "emmaText = nltk.Text(emmaTokens)\n",
      "emmaText.collocations()"
     ],
     "language": "python",
     "metadata": {},
     "outputs": [
      {
       "output_type": "stream",
       "stream": "stdout",
       "text": [
        "Frank Churchill; Miss Woodhouse; Miss Bates; Jane Fairfax; Miss\n",
        "Fairfax; every thing; young man; every body; great deal; dare say;\n",
        "John Knightley; Maple Grove; Miss Smith; Miss Taylor; Robert Martin;\n",
        "Colonel Campbell; Box Hill; said Emma; Harriet Smith; William Larkins\n"
       ]
      }
     ],
     "prompt_number": 4
    },
    {
     "cell_type": "code",
     "collapsed": false,
     "input": [
      "emmaWords = [w for w in emmaTokens if any([c.isalpha() for c in w])]\n",
      "emmaWordsText = nltk.Text(emmaWords)\n",
      "emma4grams = list(nltk.ngrams(emmaWordsText, 4))\n",
      "emma4grams[:10]"
     ],
     "language": "python",
     "metadata": {},
     "outputs": [
      {
       "metadata": {},
       "output_type": "pyout",
       "prompt_number": 14,
       "text": [
        "[('Emma', 'by', 'Jane', 'Austen'),\n",
        " ('by', 'Jane', 'Austen', 'VOLUME'),\n",
        " ('Jane', 'Austen', 'VOLUME', 'I'),\n",
        " ('Austen', 'VOLUME', 'I', 'CHAPTER'),\n",
        " ('VOLUME', 'I', 'CHAPTER', 'I'),\n",
        " ('I', 'CHAPTER', 'I', 'Emma'),\n",
        " ('CHAPTER', 'I', 'Emma', 'Woodhouse'),\n",
        " ('I', 'Emma', 'Woodhouse', 'handsome'),\n",
        " ('Emma', 'Woodhouse', 'handsome', 'clever'),\n",
        " ('Woodhouse', 'handsome', 'clever', 'and')]"
       ]
      }
     ],
     "prompt_number": 14
    },
    {
     "cell_type": "code",
     "collapsed": false,
     "input": [
      "emma4gramFreqs = nltk.FreqDist(emma4grams)\n",
      "emma4gramFreqs.most_common(10)"
     ],
     "language": "python",
     "metadata": {},
     "outputs": [
      {
       "metadata": {},
       "output_type": "pyout",
       "prompt_number": 17,
       "text": [
        "[(('I', 'do', 'not', 'know'), 50),\n",
        " (('a', 'great', 'deal', 'of'), 25),\n",
        " (('I', 'am', 'sure', 'I'), 20),\n",
        " (('I', 'do', 'not', 'think'), 18),\n",
        " (('Mr', 'and', 'Mrs', 'Weston'), 18),\n",
        " (('it', 'would', 'have', 'been'), 18),\n",
        " (('I', 'am', 'sure', 'you'), 16),\n",
        " (('I', 'have', 'no', 'doubt'), 16),\n",
        " (('at', 'Mrs', 'Goddard', 's'), 14),\n",
        " (('and', 'I', 'am', 'sure'), 13)]"
       ]
      }
     ],
     "prompt_number": 17
    },
    {
     "cell_type": "markdown",
     "metadata": {},
     "source": [
      "\"I am sure I\" and \"and I am sure\" could be, coincidentally, the same word groups just split differently; the counts could thus be much lower. "
     ]
    },
    {
     "cell_type": "code",
     "collapsed": false,
     "input": [
      "%matplotlib inline\n",
      "emma4gramsText = nltk.Text(emma4grams)\n",
      "emma4gramsText.dispersion_plot([(\"I\", \"am\", \"sure\", \"I\"), (\"and\", \"I\", \"am\", \"sure\")])"
     ],
     "language": "python",
     "metadata": {},
     "outputs": [
      {
       "metadata": {},
       "output_type": "display_data",
       "png": "[encoded data removed]",
       "text": [
        "<matplotlib.figure.Figure at 0x5ab50b8>"
       ]
      }
     ],
     "prompt_number": 24
    },
    {
     "cell_type": "code",
     "collapsed": false,
     "input": [
      "for length in range(2, len(emmaWords)):\n",
      "    ngrams = nltk.ngrams(emmaWords, length)\n",
      "    freqs = nltk.FreqDist(ngrams)\n",
      "    freqs = [(ngram, count) for ngram, count in freqs.items() if count > 1]\n",
      "    if len(freqs) > 0:\n",
      "        maxFreqs = freqs\n",
      "    else:\n",
      "        break\n",
      "print(maxFreqs)"
     ],
     "language": "python",
     "metadata": {},
     "outputs": [
      {
       "output_type": "stream",
       "stream": "stdout",
       "text": [
        "[(('what', 'reverse', 'we', 'have', 'Man', 's', 'boasted', 'power', 'and', 'freedom', 'all', 'are', 'flown', 'Lord', 'of', 'the', 'earth', 'and', 'sea', 'he', 'bends', 'a', 'slave', 'And', 'woman', 'lovely', 'woman', 'reigns', 'alone'), 2)]\n"
       ]
      }
     ],
     "prompt_number": 28
    },
    {
     "cell_type": "code",
     "collapsed": false,
     "input": [
      "import numpy as np"
     ],
     "language": "python",
     "metadata": {},
     "outputs": [],
     "prompt_number": 29
    },
    {
     "cell_type": "markdown",
     "metadata": {},
     "source": [
      "Numpy is a library for a few things, but here it's useful for n-dimensional arrays. Here we want to create equal sets of our ngrams(?)"
     ]
    },
    {
     "cell_type": "code",
     "collapsed": false,
     "input": [
      "emma4gramsSegments = np.array_split(emma4grams, 10)\n",
      "len(emma4gramsSegments)"
     ],
     "language": "python",
     "metadata": {},
     "outputs": [
      {
       "metadata": {},
       "output_type": "pyout",
       "prompt_number": 30,
       "text": [
        "10"
       ]
      }
     ],
     "prompt_number": 30
    },
    {
     "cell_type": "code",
     "collapsed": false,
     "input": [
      "import matplotlib.pyplot as plt\n",
      "searches = (\"I am sure you\", \"I am sure I\")\n",
      "\n",
      "lines = []\n",
      "ngramCounts = []\n",
      "for search in searches:\n",
      "    counts = []\n",
      "    for segment in emma4gramsSegments:\n",
      "        ngrams = [\" \".join(ngram) for ngram in segment]\n",
      "        counts.append(ngrams.count(search)\n",
      "    ngramCounts[search] = counts\n",
      "    line, = plt.plot(counts, label=search)\n",
      "    lines.append(line)\n",
      "    \n",
      "plt.ylim(0)\n",
      "plt.legend(handles=lines)\n",
      "plt.show()\n",
      "\n",
      "#plt.bar(range(0, len(counts)), counts)\n",
      "#plt.show()"
     ],
     "language": "python",
     "metadata": {},
     "outputs": [
      {
       "ename": "SyntaxError",
       "evalue": "invalid syntax (<ipython-input-49-3e8043a6832e>, line 11)",
       "output_type": "pyerr",
       "traceback": [
        "\u001b[1;36m  File \u001b[1;32m\"<ipython-input-49-3e8043a6832e>\"\u001b[1;36m, line \u001b[1;32m11\u001b[0m\n\u001b[1;33m    ngramCounts[search] = counts\u001b[0m\n\u001b[1;37m              ^\u001b[0m\n\u001b[1;31mSyntaxError\u001b[0m\u001b[1;31m:\u001b[0m invalid syntax\n"
       ]
      }
     ],
     "prompt_number": 49
    },
    {
     "cell_type": "markdown",
     "metadata": {},
     "source": [
      "Numpy has a correlation coefficient, which takes two lists of values and sees how alike they are. Identical = 1, 0 = random, -1 = inverse"
     ]
    },
    {
     "cell_type": "code",
     "collapsed": false,
     "input": [
      "np.corrcoef[ngramCounts[\"I am sure I\"], ngramCounts[\"I am sure you\"]]"
     ],
     "language": "python",
     "metadata": {},
     "outputs": [
      {
       "ename": "NameError",
       "evalue": "name 'ngramCounts' is not defined",
       "output_type": "pyerr",
       "traceback": [
        "\u001b[1;31m---------------------------------------------------------------------------\u001b[0m\n\u001b[1;31mNameError\u001b[0m                                 Traceback (most recent call last)",
        "\u001b[1;32m<ipython-input-48-88278a46386f>\u001b[0m in \u001b[0;36m<module>\u001b[1;34m()\u001b[0m\n\u001b[1;32m----> 1\u001b[1;33m \u001b[0mnp\u001b[0m\u001b[1;33m.\u001b[0m\u001b[0mcorrcoef\u001b[0m\u001b[1;33m[\u001b[0m\u001b[0mngramCounts\u001b[0m\u001b[1;33m[\u001b[0m\u001b[1;34m\"I am sure I\"\u001b[0m\u001b[1;33m]\u001b[0m\u001b[1;33m,\u001b[0m \u001b[0mngramCounts\u001b[0m\u001b[1;33m[\u001b[0m\u001b[1;34m\"I am sure you\"\u001b[0m\u001b[1;33m]\u001b[0m\u001b[1;33m]\u001b[0m\u001b[1;33m\u001b[0m\u001b[0m\n\u001b[0m",
        "\u001b[1;31mNameError\u001b[0m: name 'ngramCounts' is not defined"
       ]
      }
     ],
     "prompt_number": 48
    },
    {
     "cell_type": "markdown",
     "metadata": {},
     "source": [
      "This can be used to find correlations! You can also loop over a bunch of words/ngrams to find which ones are most correlated. I should try this for PP. "
     ]
    },
    {
     "cell_type": "code",
     "collapsed": false,
     "input": [
      "searches = [\" \".join(ngram) for ngram, count in emma4gramFreqs.most_common(20)]\n",
      "\n",
      "ngramCounts = {}\n",
      "for search in searches:\n",
      "    counts = []\n",
      "    for segment in emma4gramsSegments:\n",
      "        ngrams = [\" \".join(ngram) for ngram in segment]\n",
      "        counts.append(ngrams.count(search))\n",
      "        ngramCounts[search] = counts\n",
      "        \n",
      "ngramCounts"
     ],
     "language": "python",
     "metadata": {},
     "outputs": [
      {
       "metadata": {},
       "output_type": "pyout",
       "prompt_number": 54,
       "text": [
        "{'I am sure you': [2, 1, 1, 1, 2, 2, 1, 3, 0, 3],\n",
        " 'I do not know': [6, 6, 2, 5, 7, 7, 6, 4, 3, 4],\n",
        " 'I do not think': [5, 5, 0, 1, 2, 4, 1, 0, 0, 0],\n",
        " 'have no doubt of': [2, 1, 2, 0, 0, 1, 2, 0, 2, 2],\n",
        " 'Mr and Mrs Weston': [0, 3, 5, 2, 1, 4, 2, 1, 0, 0],\n",
        " 'of Mr Knightley s': [0, 1, 0, 0, 1, 0, 0, 1, 4, 3],\n",
        " 'I am sure she': [3, 1, 0, 5, 0, 1, 0, 1, 1, 0],\n",
        " 'it would have been': [1, 3, 2, 2, 1, 3, 1, 2, 1, 2],\n",
        " 'as soon as she': [1, 0, 0, 2, 1, 0, 3, 1, 2, 1],\n",
        " 'all the rest of': [1, 2, 2, 1, 0, 1, 2, 1, 0, 0],\n",
        " 'at Mrs Goddard s': [1, 3, 3, 4, 0, 0, 1, 0, 1, 1],\n",
        " 'I am sure I': [2, 5, 2, 1, 2, 0, 2, 4, 0, 2],\n",
        " 'I have no doubt': [3, 1, 2, 0, 1, 1, 2, 1, 2, 3],\n",
        " 'that she could not': [1, 0, 3, 2, 0, 2, 1, 1, 0, 2],\n",
        " 'of Mr Elton s': [3, 1, 3, 1, 0, 0, 1, 0, 1, 0],\n",
        " 'Colonel and Mrs Campbell': [0, 0, 1, 5, 0, 1, 1, 1, 0, 1],\n",
        " 'quarter of an hour': [0, 1, 0, 2, 0, 3, 1, 1, 3, 0],\n",
        " 'and I am sure': [3, 0, 2, 1, 1, 1, 3, 2, 0, 0],\n",
        " 'a great deal of': [2, 2, 6, 4, 1, 3, 2, 3, 1, 1],\n",
        " 'I am sure it': [0, 0, 1, 1, 3, 1, 1, 0, 0, 3]}"
       ]
      }
     ],
     "prompt_number": 54
    },
    {
     "cell_type": "code",
     "collapsed": false,
     "input": [
      "iDoNotKnowCounts = ngramCounts[\"I do not know\"]\n",
      "correlationsDict = {} ## didn't get the rest of this but it's in the notebook!\n",
      "\n",
      "for ngram, counts in ngramCounts.items():\n",
      "    cor = np.corrcoef(((iDoNotKnowCounts), counts)[0,1]\n",
      "    correlationDict[ngram] = cor\n",
      "    print(ngram, cor)"
     ],
     "language": "python",
     "metadata": {},
     "outputs": [
      {
       "ename": "SyntaxError",
       "evalue": "invalid syntax (<ipython-input-63-7cccad44c025>, line 6)",
       "output_type": "pyerr",
       "traceback": [
        "\u001b[1;36m  File \u001b[1;32m\"<ipython-input-63-7cccad44c025>\"\u001b[1;36m, line \u001b[1;32m6\u001b[0m\n\u001b[1;33m    correlationDict[ngram] = cor\u001b[0m\n\u001b[1;37m                  ^\u001b[0m\n\u001b[1;31mSyntaxError\u001b[0m\u001b[1;31m:\u001b[0m invalid syntax\n"
       ]
      }
     ],
     "prompt_number": 63
    },
    {
     "cell_type": "code",
     "collapsed": false,
     "input": [],
     "language": "python",
     "metadata": {},
     "outputs": []
    }
   ],
   "metadata": {}
  }
 ]
}