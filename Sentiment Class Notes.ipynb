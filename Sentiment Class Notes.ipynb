{
 "metadata": {
  "name": "",
  "signature": "sha256:ede9810f0e27f812ee38cd20f3d6ee11b19468550546611aa65c6d0b53be70a6"
 },
 "nbformat": 3,
 "nbformat_minor": 0,
 "worksheets": [
  {
   "cells": [
    {
     "cell_type": "heading",
     "level": 1,
     "metadata": {},
     "source": [
      "Sentiment Analysis"
     ]
    },
    {
     "cell_type": "heading",
     "level": 6,
     "metadata": {},
     "source": [
      "March 10th"
     ]
    },
    {
     "cell_type": "code",
     "collapsed": false,
     "input": [
      "import urllib.request\n",
      "sonnetsUrl = \"http://www.gutenberg.org/cache/epub/1041/pg1041.txt\"\n",
      "sonnetsString = urllib.request.urlopen(sonnetsUrl).read().decode()\n",
      "len(sonnetsString) # let's make sure we have a lot of characters"
     ],
     "language": "python",
     "metadata": {},
     "outputs": [
      {
       "metadata": {},
       "output_type": "pyout",
       "prompt_number": 1,
       "text": [
        "122774"
       ]
      }
     ],
     "prompt_number": 1
    },
    {
     "cell_type": "code",
     "collapsed": false,
     "input": [
      "filteredSonnetsStart = sonnetsString.find(\"  I\\r\\n\") # title of first sonnet\n",
      "filteredSonnetsEnd = sonnetsString.find(\"End of Project Gutenberg's\") # end of sonnets\n",
      "filteredSonnetsString = sonnetsString[filteredSonnetsStart:filteredSonnetsEnd].rstrip() # strip spaces from the end (right)\n",
      "print(filteredSonnetsString[:75] + ' \u2026 ' + filteredSonnetsString[-50:])"
     ],
     "language": "python",
     "metadata": {},
     "outputs": [
      {
       "output_type": "stream",
       "stream": "stdout",
       "text": [
        "  I\r\n",
        "\r\n",
        "  From fairest creatures we desire increase,\r\n",
        "  That thereby beauty' \u2026     Love's fire heats water, water cools not love.\n"
       ]
      }
     ],
     "prompt_number": 2
    },
    {
     "cell_type": "code",
     "collapsed": false,
     "input": [
      "import re\n",
      "sonnetsList = re.split(\"  [A-Z]+\\r\\n\\r\\n\", filteredSonnetsString) # the + sign means ' match 1 or more chars '\n",
      "print(sonnetsList[1]) # sonnetList[0] is empty (the text before the first roman numeral), let's look at sonnet I"
     ],
     "language": "python",
     "metadata": {},
     "outputs": [
      {
       "output_type": "stream",
       "stream": "stdout",
       "text": [
        "  From fairest creatures we desire increase,\r\n",
        "  That thereby beauty's rose might never die,\r\n",
        "  But as the riper should by time decease,\r\n",
        "  His tender heir might bear his memory:\r\n",
        "  But thou contracted to thine own bright eyes,\r\n",
        "  Feed'st thy light's flame with self-substantial fuel,\r\n",
        "  Making a famine where abundance lies,\r\n",
        "  Thy self thy foe, to thy sweet self too cruel:\r\n",
        "  Thou that art now the world's fresh ornament,\r\n",
        "  And only herald to the gaudy spring,\r\n",
        "  Within thine own bud buriest thy content,\r\n",
        "  And tender churl mak'st waste in niggarding:\r\n",
        "    Pity the world, or else this glutton be,\r\n",
        "    To eat the world's due, by the grave and thee.\r\n",
        "\r\n",
        "\n"
       ]
      }
     ],
     "prompt_number": 3
    },
    {
     "cell_type": "code",
     "collapsed": false,
     "input": [
      "import os\n",
      "sonnetsPath = 'sonnets' # this subdirectory will be relative to the current notebook\n",
      "if not os.path.exists(sonnetsPath):\n",
      "    os.makedirs(sonnetsPath)"
     ],
     "language": "python",
     "metadata": {},
     "outputs": [],
     "prompt_number": 4
    },
    {
     "cell_type": "code",
     "collapsed": false,
     "input": [
      "for index, sonnet in enumerate(sonnetsList): # loop through our list as enumeration to get index\n",
      "    if len(sonnet.strip()) > 0: # make sure we have text, not empty after stripping out whitespace\n",
      "        filename = os.path.join(sonnetsPath, str(index).zfill(3)+\".txt\") # create filename from index\n",
      "        f = open(filename, \"w\")\n",
      "        f.write(sonnet.rstrip()) # write out our sonnet into the file (removing whitespace at the end/right)\n",
      "        f.close()"
     ],
     "language": "python",
     "metadata": {},
     "outputs": [],
     "prompt_number": 5
    },
    {
     "cell_type": "heading",
     "level": 4,
     "metadata": {},
     "source": [
      "Making A Corpus"
     ]
    },
    {
     "cell_type": "code",
     "collapsed": false,
     "input": [
      "import nltk\n",
      "from nltk.corpus import PlaintextCorpusReader\n",
      "sonnetsCorpus = PlaintextCorpusReader(sonnetsPath, '.*')\n",
      "len(sonnetsCorpus.fileids())"
     ],
     "language": "python",
     "metadata": {},
     "outputs": [
      {
       "metadata": {},
       "output_type": "pyout",
       "prompt_number": 6,
       "text": [
        "154"
       ]
      }
     ],
     "prompt_number": 6
    },
    {
     "cell_type": "code",
     "collapsed": false,
     "input": [
      "tokens = sonnetsCorpus.words() # convenience method for reading words from *all* files in the corpus\n",
      "words = [word for word in tokens if any([c for c in word if c.isalpha()])]\n",
      "print(\"sonnets corpus contains\", '{:,}'.format(len(tokens)), \"tokens and \", '{:,}'.format(len(words)), \"words and\",\n",
      "      '{:,}'.format(len(set(words))), \"word types\")"
     ],
     "language": "python",
     "metadata": {},
     "outputs": [
      {
       "output_type": "stream",
       "stream": "stdout",
       "text": [
        "sonnets corpus contains 21,717 tokens and  18,160 words and 3,336 word types\n"
       ]
      }
     ],
     "prompt_number": 7
    },
    {
     "cell_type": "heading",
     "level": 4,
     "metadata": {},
     "source": [
      "Sentiment analysisisis"
     ]
    },
    {
     "cell_type": "code",
     "collapsed": false,
     "input": [
      "from nltk.corpus import sentiwordnet as swn"
     ],
     "language": "python",
     "metadata": {},
     "outputs": [],
     "prompt_number": 10
    },
    {
     "cell_type": "code",
     "collapsed": false,
     "input": [
      "# this takes a corpus and returns three parts: values (per file id), positive words, negative words\n",
      "def get_sentiments_data_from_corpus(corpus):\n",
      "    docs = {} # dictionary for sentiment values per document\n",
      "    for id in corpus.fileids(): # go through each document id\n",
      "        tokens = corpus.words(id) # read in tokens/words\n",
      "        docs[id] = get_sentiments_data_from_tokens(tokens) # get sentiment data for the tokens/words\n",
      "    return docs\n",
      "\n",
      "# get sentiment data from a list tokens, this returns a sentiment value and lists of positive and negative words\n",
      "def get_sentiments_data_from_tokens(tokens):\n",
      "    tagged = nltk.pos_tag(tokens) # perform NLTK part-of-speech tagging\n",
      "    positives = [] # track positive words\n",
      "    negatives = [] # track negative words\n",
      "    value = 0 # track sentiment value for the document\n",
      "    for token, pos in tagged: # look at each token, pos pair\n",
      "        score = get_senti_score_from_tokens_pos(token, pos) # get a score from this pair\n",
      "        if score: # if a score exists (many words won't have scores)\n",
      "            value += score # add to the value for this document (negative values will be negative)\n",
      "            if score > 0: # if we have a positive score add word to positives list\n",
      "                positives.append(token.lower())\n",
      "            else: # if we have a negative score add word to negatives list\n",
      "                negatives.append(token.lower())\n",
      "    return {\"value\": value, \"positives\": set(positives), \"negatives\": set(negatives)}\n",
      "\n",
      "# get a sentiment score, if possible, from a token, pos pair\n",
      "def get_senti_score_from_tokens_pos(token, pos): \n",
      "    p = get_wordnet_pos(pos) # look up the part of speech (translate from Treebank to Wordnet)\n",
      "    if p: # if we have a relative part of speech\n",
      "        for sentiment in swn.senti_synsets(token, p): # go through each senti_synset\n",
      "            pos = sentiment.pos_score()                \n",
      "            neg = sentiment.neg_score()\n",
      "            if pos != neg: # if we don't have a neutral value\n",
      "                return pos - neg # substract the positive from negative value\n",
      "            ##could potentially only look at words with bigger significant differences\n",
      "                break # we'll stop at the most frequent non neutral value\n",
      "\n",
      "# make a Treebank part of speech to WordNet\n",
      "def get_wordnet_pos(pos):\n",
      "    if \"NN\" in pos:\n",
      "        return \"n\" # noun\n",
      "    elif \"JJ\" in pos:\n",
      "        return \"a\" # adjective\n",
      "    elif \"VB\" in pos:\n",
      "        return \"v\" # verb\n",
      "    elif \"RB\" in pos:\n",
      "        return \"r\""
     ],
     "language": "python",
     "metadata": {},
     "outputs": [],
     "prompt_number": 11
    },
    {
     "cell_type": "code",
     "collapsed": false,
     "input": [
      "sonnetsSentimentData = get_sentiments_data_from_corpus(sonnetsCorpus)"
     ],
     "language": "python",
     "metadata": {},
     "outputs": [],
     "prompt_number": 12
    },
    {
     "cell_type": "markdown",
     "metadata": {},
     "source": [
      "Keep in mind, this dictionary contains mini dictionaries that were outputted by the ``` return {\"value\": value, \"positives\": set(positives), \"negatives\": set(negatives)}``` line earlier. So what we want to do now is to extract only the 'value' for each doc."
     ]
    },
    {
     "cell_type": "code",
     "collapsed": false,
     "input": [
      "sonnetsSentimentValues = {}\n",
      "for doc, data in sonnetsSentimentData.items():\n",
      "    sonnetsSentimentValues[doc] = data['value']\n",
      "sonnetsSentimentFreqs = nltk.FreqDist(sonnetsSentimentValues)"
     ],
     "language": "python",
     "metadata": {},
     "outputs": [],
     "prompt_number": 13
    },
    {
     "cell_type": "code",
     "collapsed": false,
     "input": [
      "%matplotlib inline\n",
      "sonnetsSentimentFreqs.plot()"
     ],
     "language": "python",
     "metadata": {},
     "outputs": [
      {
       "metadata": {},
       "output_type": "display_data",
       "png": "[encoded data removed]",
       "text": [
        "<matplotlib.figure.Figure at 0x14209748>"
       ]
      }
     ],
     "prompt_number": 14
    },
    {
     "cell_type": "code",
     "collapsed": false,
     "input": [
      "import numpy\n",
      "numpy.mean([val for doc, val in sonnetsSentimentFreqs.items()])"
     ],
     "language": "python",
     "metadata": {},
     "outputs": [
      {
       "metadata": {},
       "output_type": "pyout",
       "prompt_number": 16,
       "text": [
        "2.4244285714285714"
       ]
      }
     ],
     "prompt_number": 16
    },
    {
     "cell_type": "code",
     "collapsed": false,
     "input": [],
     "language": "python",
     "metadata": {},
     "outputs": []
    }
   ],
   "metadata": {}
  }
 ]
}